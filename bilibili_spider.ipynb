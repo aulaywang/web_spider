{
 "cells": [
  {
   "cell_type": "markdown",
   "metadata": {},
   "source": [
    "## 做一个简单爬虫\n",
    "来源：https://www.bilibili.com/video/BV1b7411N7P2?p=32"
   ]
  },
  {
   "cell_type": "code",
   "execution_count": 1,
   "metadata": {
    "collapsed": true
   },
   "outputs": [],
   "source": [
    "import re"
   ]
  },
  {
   "cell_type": "code",
   "execution_count": 2,
   "metadata": {
    "collapsed": true
   },
   "outputs": [],
   "source": [
    "import requests"
   ]
  },
  {
   "cell_type": "code",
   "execution_count": 3,
   "metadata": {
    "collapsed": true
   },
   "outputs": [],
   "source": [
    "class MyCrawler:\n",
    "    def __init__(self, filename):\n",
    "        self.filename = filename\n",
    "    \n",
    "    def download(self, url):\n",
    "        r = requests.get(url)\n",
    "        return r.text\n",
    "    \n",
    "    def extract(self, content, pattern):\n",
    "        result = re.findall(pattern, content)\n",
    "        return result\n",
    "    \n",
    "    def save(self, info):\n",
    "        with open(self.filename, 'a', encoding='utf-8') as f:\n",
    "            for item in info:\n",
    "                f.write(' '.join(item) + '\\n')\n",
    "    \n",
    "    def crawl(self, url, pattern):\n",
    "        content = self.download(url)\n",
    "        info = self.extract(content, pattern)\n",
    "        self.save(info)"
   ]
  },
  {
   "cell_type": "code",
   "execution_count": 4,
   "metadata": {
    "collapsed": true
   },
   "outputs": [],
   "source": [
    "b_crawler = MyCrawler('bilibili_online_now.txt')"
   ]
  },
  {
   "cell_type": "markdown",
   "metadata": {},
   "source": [
    "### 不用运行本代码段"
   ]
  },
  {
   "cell_type": "code",
   "execution_count": 12,
   "metadata": {
    "collapsed": true
   },
   "outputs": [
    {
     "name": "stdout",
     "output_type": "stream",
     "text": [
      "<!DOCTYPE html><html><head><title>当前在线 - 哔哩哔哩 (゜-゜)つロ 干杯~-bilibili</title><meta charset=\"utf-8\"><meta http-equiv=\"X-UA-Compatible\" content=\"IE=edge\"><meta name=\"renderer\" content=\"webkit\"><meta name=\"description\" content=\"bilibili是国内知名的视频弹幕网站，这里有最及时的动漫新番，最棒的ACG氛围，最有创意的Up主。大家可以在这里找到许多欢乐。\"><meta name=\"keywords\" content=\"B站,弹幕,字幕,AMV,MAD,MTV,ANIME,动漫,动漫音乐,游戏,游戏解说,ACG,galgame,动画,番组,新番,初音,洛天依,vocaloid\"><meta name=\"spm_prefix\" content=\"333.155\"><script type=\"text/javascript\">window.spmReportData={},window.reportConfig={sample:1,scrollTracker:!0,msgObjects:\"spmReportData\",errorTracker:!0,misakaTracker:!0,cdnTracker:!0}</script><script type=\"text/javascript\">window.__BILI_CONFIG__={\"show_bv\":true}</script><!-- header 强制窄屏模式 --><script type=\"text/javascript\">window.isForceNarrow=!0</script><link rel=\"preload\" href=\"//s1.hdslb.com/bfs/static/jinkela/online/1.online.cbf0846ee5576f0b501b75ca6422e17f66791eaa.js\" as=\"script\"><link rel=\"preload\" href=\"//s1.hdslb.com/bfs/static/jinkela/online/css/online.0.cbf0846ee5576f0b501b75ca6422e17f66791eaa.css\" as=\"style\"><link rel=\"preload\" href=\"//s1.hdslb.com/bfs/static/jinkela/online/online.cbf0846ee5576f0b501b75ca6422e17f66791eaa.js\" as=\"script\"><link rel=\"stylesheet\" href=\"//s1.hdslb.com/bfs/static/jinkela/online/css/online.0.cbf0846ee5576f0b501b75ca6422e17f66791eaa.css\"></head><body><div id=\"biliMainHeader\" type=\"all\" style=\"height:263px\"></div><div id=\"online-app\"></div><script type=\"text/javascript\" src=\"//s1.hdslb.com/bfs/static/jinkela/long/js/jquery/jquery1.7.2.min.js\"></script><script type=\"text/javascript\" src=\"//s1.hdslb.com/bfs/seed/log/report/log-reporter.js\" crossorigin></script><script type=\"text/javascript\" src=\"//s1.hdslb.com/bfs/seed/jinkela/header-v2/header.js\" defer=\"defer\"></script><div id=\"app\" data-server-rendered=\"true\"><div class=\"bili-wrapper\"><div class=\"b-head online\"><span class=\"b-head-i\"></span><span class=\"b-head-t\">在线列表</span></div><div class=\"online-list\"><div class=\"ebox\"><a href=\"//www.bilibili.com/video/BV1PA411e7p3\" title=\"沈逸：中美进入“关键时刻”，注意驻美大使表态中的这些重大信号\" target=\"_blank\"><div class=\"lazy-img\"><img alt=\"沈逸：中美进入“关键时刻”，注意驻美大使表态中的这些重大信号\" src=\"\"></div><p class=\"etitle\">沈逸：中美进入“关键时刻”，注意驻美大使表态中的这些重大信号</p></a><div class=\"dlo\"><span class=\"play\"><i class=\"b-icon b-icon-v-play\"></i>12.7万\n",
      "    </span><span class=\"dm\"><i class=\"b-icon b-icon-v-dm\"></i>4978\n",
      "    </span><a href=\"//space.bilibili.com/10330740/\" target=\"blank\" class=\"author\">观察者网</a></div><p class=\"ol\"><b>21046</b>在线\n",
      "  </p><div class=\"watch-later-trigger w-later\"></div></div><div class=\"ebox\"><a href=\"//www.bilibili.com/video/BV1SJ411F7y6\" title=\"【RunningMan全集】2010-2020RM超清大合集（更新至E515.200809，记得看简介或置顶评论哦，持续更新中～）\" target=\"_blank\"><div class=\"lazy-img\"><img alt=\"【RunningMan全集】2010-2020RM超清大合集（更新至E515.200809，记得看简介或置顶评论哦，持续更新中～）\" src=\"\"></div><p class=\"etitle\">【RunningMan全集】2010-2020RM超清大合集（更新至E515.200809，记得看简介或置顶评论哦，持续更新中～）</p></a><div class=\"dlo\"><span class=\"play\"><i class=\"b-icon b-icon-v-play\"></i>8451.1万\n",
      "    </span><span class=\"dm\"><i class=\"b-icon b-icon-v-dm\"></i>280.2万\n",
      "    </span><a href=\"//space.bilibili.com/320195588/\" target=\"blank\" class=\"author\">鲸鱼要好好学习呀</a></div><p class=\"ol\"><b>18278</b>在线\n",
      "  </p><div class=\"watch-later-trigger w-later\"></div></div><div class=\"ebox\"><a href=\"//www.bilibili.com/video/BV1yD4y1U7j9\" title=\"奇葩小伙在北京摆地摊打王者荣耀！赢一把就赚十元钱！\" target=\"_blank\"><div class=\"lazy-img\"><img alt=\"奇葩小伙在北京摆地摊打王者荣耀！赢一把就赚十元钱！\" src=\"\"></div><p class=\"etitle\">奇葩小伙在北京摆地摊打王者荣耀！赢一把就赚十元钱！</p></a><div class=\"dlo\"><span class=\"play\"><i class=\"b-icon b-icon-v-play\"></i>53.1万\n",
      "    </span><span class=\"dm\"><i class=\"b-icon b-icon-v-dm\"></i>1.2万\n",
      "    </span><a href=\"//space.bilibili.com/9824766/\" target=\"blank\" class=\"author\">敬汉卿</a></div><p class=\"ol\"><b>15233</b>在线\n",
      "  </p><div class=\"watch-later-trigger w-later\"></div></div><div class=\"ebox\"><a href=\"//www.bilibili.com/video/BV1VD4y1D788\" title=\"【独家】《雾山五行》第1集 焕离神火【7月国创】\" target=\"_blank\"><div class=\"lazy-img\"><img alt=\"【独家】《雾山五行》第1集 焕离神火【7月国创】\" src=\"\"></div><p class=\"etitle\">【独家】《雾山五行》第1集 焕离神火【7月国创】</p></a><div class=\"dlo\"><span class=\"play\"><i class=\"b-icon b-icon-v-play\"></i>1895.3万\n",
      "    </span><span class=\"dm\"><i class=\"b-icon b-icon-v-dm\"></i>40.0万\n",
      "    </span><a href=\"//space.bilibili.com/98627270/\" target=\"blank\" class=\"author\">哔哩哔哩国创</a></div><p class=\"ol\"><b>13971</b>在线\n",
      "  </p><div class=\"watch-later-trigger w-later\"></div></div><div class=\"ebox\"><a href=\"//www.bilibili.com/video/BV1V54y1e76p\" title=\"【半佛】网抑云现象背后，是人们需要发泄\" target=\"_blank\"><div class=\"lazy-img\"><img alt=\"【半佛】网抑云现象背后，是人们需要发泄\" src=\"\"></div><p class=\"etitle\">【半佛】网抑云现象背后，是人们需要发泄</p></a><div class=\"dlo\"><span class=\"play\"><i class=\"b-icon b-icon-v-play\"></i>14.4万\n",
      "    </span><span class=\"dm\"><i class=\"b-icon b-icon-v-dm\"></i>2127\n",
      "    </span><a href=\"//space.bilibili.com/37663924/\" target=\"blank\" class=\"author\">硬核的半佛仙人</a></div><p class=\"ol\"><b>11746</b>在线\n",
      "  </p><div class=\"watch-later-trigger w-later\"></div></div><div class=\"ebox\"><a href=\"//www.bilibili.com/video/BV1PQ4y1N7V8\" title=\"名侦探柯南 01-941\" target=\"_blank\"><div class=\"lazy-img\"><img alt=\"名侦探柯南 01-941\" src=\"\"></div><p class=\"etitle\">名侦探柯南 01-941</p></a><div class=\"dlo\"><span class=\"play\"><i class=\"b-icon b-icon-v-play\"></i>6115.4万\n",
      "    </span><span class=\"dm\"><i class=\"b-icon b-icon-v-dm\"></i>273.2万\n",
      "    </span><a href=\"//space.bilibili.com/928123/\" target=\"blank\" class=\"author\">哔哩哔哩番剧</a></div><p class=\"ol\"><b>11317</b>在线\n",
      "  </p><div class=\"watch-later-trigger w-later\"></div></div><div class=\"ebox\"><a href=\"//www.bilibili.com/video/BV1TK411T7Zd\" title=\"【逸语道破15】中美关系坏不到哪去，前提是不要恐惧斗争\" target=\"_blank\"><div class=\"lazy-img\"><img alt=\"【逸语道破15】中美关系坏不到哪去，前提是不要恐惧斗争\" src=\"\"></div><p class=\"etitle\">【逸语道破15】中美关系坏不到哪去，前提是不要恐惧斗争</p></a><div class=\"dlo\"><span class=\"play\"><i class=\"b-icon b-icon-v-play\"></i>138.0万\n",
      "    </span><span class=\"dm\"><i class=\"b-icon b-icon-v-dm\"></i>5.7万\n",
      "    </span><a href=\"//space.bilibili.com/10330740/\" target=\"blank\" class=\"author\">观察者网</a></div><p class=\"ol\"><b>10665</b>在线\n",
      "  </p><div class=\"watch-later-trigger w-later\"></div></div><div class=\"ebox\"><a href=\"//www.bilibili.com/video/BV1Yh411d7zz\" title=\"【片片】老公是变态杀手，老婆是职业刑警，同床共枕真刺激！变态悬疑韩剧《邪恶之花》1-2\" target=\"_blank\"><div class=\"lazy-img\"><img alt=\"【片片】老公是变态杀手，老婆是职业刑警，同床共枕真刺激！变态悬疑韩剧《邪恶之花》1-2\" src=\"\"></div><p class=\"etitle\">【片片】老公是变态杀手，老婆是职业刑警，同床共枕真刺激！变态悬疑韩剧《邪恶之花》1-2</p></a><div class=\"dlo\"><span class=\"play\"><i class=\"b-icon b-icon-v-play\"></i>9.1万\n",
      "    </span><span class=\"dm\"><i class=\"b-icon b-icon-v-dm\"></i>2548\n",
      "    </span><a href=\"//space.bilibili.com/10119428/\" target=\"blank\" class=\"author\">小片片说大片</a></div><p class=\"ol\"><b>10646</b>在线\n",
      "  </p><div class=\"watch-later-trigger w-later\"></div></div><div class=\"ebox\"><a href=\"//www.bilibili.com/video/BV1p4411x7Ys\" title=\"【本气黑猫】明日方舟攻略合集（更新火蓝之心复刻  OF-EX-6 EX-5 EX-4突袭7-18 LS-5 CE-5 SK-4 剿灭）\" target=\"_blank\"><div class=\"lazy-img\"><img alt=\"【本气黑猫】明日方舟攻略合集（更新火蓝之心复刻  OF-EX-6 EX-5 EX-4突袭7-18 LS-5 CE-5 SK-4 剿灭）\" src=\"\"></div><p class=\"etitle\">【本气黑猫】明日方舟攻略合集（更新火蓝之心复刻  OF-EX-6 EX-5 EX-4突袭7-18 LS-5 CE-5 SK-4 剿灭）</p></a><div class=\"dlo\"><span class=\"play\"><i class=\"b-icon b-icon-v-play\"></i>3260.9万\n",
      "    </span><span class=\"dm\"><i class=\"b-icon b-icon-v-dm\"></i>11.4万\n",
      "    </span><a href=\"//space.bilibili.com/38829/\" target=\"blank\" class=\"author\">本气黑猫</a></div><p class=\"ol\"><b>7608</b>在线\n",
      "  </p><div class=\"watch-later-trigger w-later\"></div></div><div class=\"ebox\"><a href=\"//www.bilibili.com/video/BV1u54y1U7Bo\" title=\"割点肉包饺子，一碗红油，四斤猪肉，红油饺子吃过瘾，肥羊太馋了\" target=\"_blank\"><div class=\"lazy-img\"><img alt=\"割点肉包饺子，一碗红油，四斤猪肉，红油饺子吃过瘾，肥羊太馋了\" src=\"\"></div><p class=\"etitle\">割点肉包饺子，一碗红油，四斤猪肉，红油饺子吃过瘾，肥羊太馋了</p></a><div class=\"dlo\"><span class=\"play\"><i class=\"b-icon b-icon-v-play\"></i>14.1万\n",
      "    </span><span class=\"dm\"><i class=\"b-icon b-icon-v-dm\"></i>2872\n",
      "    </span><a href=\"//space.bilibili.com/390461123/\" target=\"blank\" class=\"author\">徐大sao</a></div><p class=\"ol\"><b>7599</b>在线\n",
      "  </p><div class=\"watch-later-trigger w-later\"></div></div><div class=\"ebox\"><a href=\"//www.bilibili.com/video/BV1e4411B7AK\" title=\"【小狼XF】《明日方舟》火蓝之心全关卡 最速低配攻略合集OF-1~8 F1~4 更新OF-EX6\" target=\"_blank\"><div class=\"lazy-img\"><img alt=\"【小狼XF】《明日方舟》火蓝之心全关卡 最速低配攻略合集OF-1~8 F1~4 更新OF-EX6\" src=\"\"></div><p class=\"etitle\">【小狼XF】《明日方舟》火蓝之心全关卡 最速低配攻略合集OF-1~8 F1~4 更新OF-EX6</p></a><div class=\"dlo\"><span class=\"play\"><i class=\"b-icon b-icon-v-play\"></i>129.8万\n",
      "    </span><span class=\"dm\"><i class=\"b-icon b-icon-v-dm\"></i>9299\n",
      "    </span><a href=\"//space.bilibili.com/298484/\" target=\"blank\" class=\"author\">小狼XF</a></div><p class=\"ol\"><b>7180</b>在线\n",
      "  </p><div class=\"watch-later-trigger w-later\"></div></div><div class=\"ebox\"><a href=\"//www.bilibili.com/video/BV1gV411U7pd\" title=\"【罗翔】发生在网络上的猥亵儿童罪\" target=\"_blank\"><div class=\"lazy-img\"><img alt=\"【罗翔】发生在网络上的猥亵儿童罪\" src=\"\"></div><p class=\"etitle\">【罗翔】发生在网络上的猥亵儿童罪</p></a><div class=\"dlo\"><span class=\"play\"><i class=\"b-icon b-icon-v-play\"></i>30.8万\n",
      "    </span><span class=\"dm\"><i class=\"b-icon b-icon-v-dm\"></i>5278\n",
      "    </span><a href=\"//space.bilibili.com/517327498/\" target=\"blank\" class=\"author\">罗翔说刑法</a></div><p class=\"ol\"><b>7164</b>在线\n",
      "  </p><div class=\"watch-later-trigger w-later\"></div></div><div class=\"ebox\"><a href=\"//www.bilibili.com/video/BV1ah411d74k\" title=\"【独家/完结】雾山五行 第3集 幻指结界【7月国创】\" target=\"_blank\"><div class=\"lazy-img\"><img alt=\"【独家/完结】雾山五行 第3集 幻指结界【7月国创】\" src=\"\"></div><p class=\"etitle\">【独家/完结】雾山五行 第3集 幻指结界【7月国创】</p></a><div class=\"dlo\"><span class=\"play\"><i class=\"b-icon b-icon-v-play\"></i>461.9万\n",
      "    </span><span class=\"dm\"><i class=\"b-icon b-icon-v-dm\"></i>13.4万\n",
      "    </span><a href=\"//space.bilibili.com/98627270/\" target=\"blank\" class=\"author\">哔哩哔哩国创</a></div><p class=\"ol\"><b>6944</b>在线\n",
      "  </p><div class=\"watch-later-trigger w-later\"></div></div><div class=\"ebox\"><a href=\"//www.bilibili.com/video/BV19v411v78C\" title=\"【LPL夏季赛】8月10日 饭堂周末夜\" target=\"_blank\"><div class=\"lazy-img\"><img alt=\"【LPL夏季赛】8月10日 饭堂周末夜\" src=\"\"></div><p class=\"etitle\">【LPL夏季赛】8月10日 饭堂周末夜</p></a><div class=\"dlo\"><span class=\"play\"><i class=\"b-icon b-icon-v-play\"></i>117.3万\n",
      "    </span><span class=\"dm\"><i class=\"b-icon b-icon-v-dm\"></i>3.5万\n",
      "    </span><a href=\"//space.bilibili.com/50329118/\" target=\"blank\" class=\"author\">哔哩哔哩英雄联盟赛事</a></div><p class=\"ol\"><b>5250</b>在线\n",
      "  </p><div class=\"watch-later-trigger w-later\"></div></div><div class=\"ebox\"><a href=\"//www.bilibili.com/video/BV1Lf4y197gM\" title=\"【挽纫】救命！我在一张两百米宽的床上醒来...\" target=\"_blank\"><div class=\"lazy-img\"><img alt=\"【挽纫】救命！我在一张两百米宽的床上醒来...\" src=\"\"></div><p class=\"etitle\">【挽纫】救命！我在一张两百米宽的床上醒来...</p></a><div class=\"dlo\"><span class=\"play\"><i class=\"b-icon b-icon-v-play\"></i>152.7万\n",
      "    </span><span class=\"dm\"><i class=\"b-icon b-icon-v-dm\"></i>4.0万\n",
      "    </span><a href=\"//space.bilibili.com/10195907/\" target=\"blank\" class=\"author\">挽纫很会咕咕咕</a></div><p class=\"ol\"><b>4537</b>在线\n",
      "  </p><div class=\"watch-later-trigger w-later\"></div></div><div class=\"ebox\"><a href=\"//www.bilibili.com/video/BV1vE411b7ke\" title=\"犬夜叉\" target=\"_blank\"><div class=\"lazy-img\"><img alt=\"犬夜叉\" src=\"\"></div><p class=\"etitle\">犬夜叉</p></a><div class=\"dlo\"><span class=\"play\"><i class=\"b-icon b-icon-v-play\"></i>4254.7万\n",
      "    </span><span class=\"dm\"><i class=\"b-icon b-icon-v-dm\"></i>225.4万\n",
      "    </span><a href=\"//space.bilibili.com/928123/\" target=\"blank\" class=\"author\">哔哩哔哩番剧</a></div><p class=\"ol\"><b>3174</b>在线\n",
      "  </p><div class=\"watch-later-trigger w-later\"></div></div><div class=\"ebox\"><a href=\"//www.bilibili.com/video/BV1Mf4y197cj\" title=\"成年后这些就该懂了\" target=\"_blank\"><div class=\"lazy-img\"><img alt=\"成年后这些就该懂了\" src=\"\"></div><p class=\"etitle\">成年后这些就该懂了</p></a><div class=\"dlo\"><span class=\"play\"><i class=\"b-icon b-icon-v-play\"></i>575.1万\n",
      "    </span><span class=\"dm\"><i class=\"b-icon b-icon-v-dm\"></i>5.2万\n",
      "    </span><a href=\"//space.bilibili.com/321422126/\" target=\"blank\" class=\"author\">进击的金厂长</a></div><p class=\"ol\"><b>2309</b>在线\n",
      "  </p><div class=\"watch-later-trigger w-later\"></div></div><div class=\"ebox\"><a href=\"//www.bilibili.com/video/BV1Fk4y1U7eV\" title=\"金钱的声音！10000枚硬币演奏10000HOURS（补投）\" target=\"_blank\"><div class=\"lazy-img\"><img alt=\"金钱的声音！10000枚硬币演奏10000HOURS（补投）\" src=\"\"></div><p class=\"etitle\">金钱的声音！10000枚硬币演奏10000HOURS（补投）</p></a><div class=\"dlo\"><span class=\"play\"><i class=\"b-icon b-icon-v-play\"></i>9.1万\n",
      "    </span><span class=\"dm\"><i class=\"b-icon b-icon-v-dm\"></i>997\n",
      "    </span><a href=\"//space.bilibili.com/596324576/\" target=\"blank\" class=\"author\">音乐制作人Kurt</a></div><p class=\"ol\"><b>2241</b>在线\n",
      "  </p><div class=\"watch-later-trigger w-later\"></div></div><div class=\"ebox\"><a href=\"//www.bilibili.com/video/BV1xs411Q799\" title=\"[小甲鱼]零基础入门学习Python\" target=\"_blank\"><div class=\"lazy-img\"><img alt=\"[小甲鱼]零基础入门学习Python\" src=\"\"></div><p class=\"etitle\">[小甲鱼]零基础入门学习Python</p></a><div class=\"dlo\"><span class=\"play\"><i class=\"b-icon b-icon-v-play\"></i>1082.4万\n",
      "    </span><span class=\"dm\"><i class=\"b-icon b-icon-v-dm\"></i>23.6万\n",
      "    </span><a href=\"//space.bilibili.com/25560915/\" target=\"blank\" class=\"author\">IT搬運工</a></div><p class=\"ol\"><b>1826</b>在线\n",
      "  </p><div class=\"watch-later-trigger w-later\"></div></div><div class=\"ebox\"><a href=\"//www.bilibili.com/video/BV1P54y1U7dh\" title=\"狮子抢肉的速度有多快？【奥列格园长】\" target=\"_blank\"><div class=\"lazy-img\"><img alt=\"狮子抢肉的速度有多快？【奥列格园长】\" src=\"\"></div><p class=\"etitle\">狮子抢肉的速度有多快？【奥列格园长】</p></a><div class=\"dlo\"><span class=\"play\"><i class=\"b-icon b-icon-v-play\"></i>10.7万\n",
      "    </span><span class=\"dm\"><i class=\"b-icon b-icon-v-dm\"></i>791\n",
      "    </span><a href=\"//space.bilibili.com/590490400/\" target=\"blank\" class=\"author\">克里米亚野生动物园</a></div><p class=\"ol\"><b>1655</b>在线\n",
      "  </p><div class=\"watch-later-trigger w-later\"></div></div></div></div></div><script>window.__INITIAL_STATE__={\"onlineList\":[{\"aid\":329241652,\"videos\":1,\"tid\":124,\"tname\":\"社科人文\",\"copyright\":1,\"pic\":\"http:\\u002F\\u002Fi0.hdslb.com\\u002Fbfs\\u002Farchive\\u002Fecc664f2d92fc861911636840de942e0cc65ac69.jpg\",\"title\":\"沈逸：中美进入“关键时刻”，注意驻美大使表态中的这些重大信号\",\"pubdate\":1597142535,\"ctime\":1597131156,\"desc\":\"中国驻美大使崔天凯在参加阿斯本安全论坛期间接受采访，向外界透露出了一个重大信号，我们必须引起关注。访谈中，崔大使将我中国的底线与核心利益非常坦诚和明确地摊开在全球人民面前，这是新中国历史上罕见的，外交使节向美国提出这一根本问题：美国是否准备好，与一个具有不同历史文化和制度，但无意与美国争霸的国家和平共处？换言之，中美关系走到今天这一步，中国没有单方面维护中美关系的义务。\",\"state\":0,\"attribute\":16793728,\"duration\":1433,\"mission_id\":13954,\"rights\":{\"bp\":0,\"elec\":0,\"download\":0,\"movie\":0,\"pay\":0,\"hd5\":0,\"no_reprint\":1,\"autoplay\":1,\"ugc_pay\":0,\"is_cooperation\":1,\"ugc_pay_preview\":0,\"no_background\":0},\"owner\":{\"mid\":10330740,\"name\":\"观察者网\",\"face\":\"http:\\u002F\\u002Fi1.hdslb.com\\u002Fbfs\\u002Fface\\u002F1d6f100b921c9b48914eda8f3b37e76ba9ef4ca5.jpg\"},\"stat\":{\"aid\":329241652,\"view\":127066,\"danmaku\":4978,\"reply\":2114,\"favorite\":3154,\"coin\":9213,\"share\":818,\"now_rank\":0,\"his_rank\":0,\"like\":19477,\"dislike\":0},\"dynamic\":\"#逸语道破##沈逸##崔天凯#中国驻美大使崔天凯在参加阿斯本安全论坛期间接受采访，向外界透露出了一个重大信号，我们必须引起关注。访谈中，崔大使将我中国的底线与核心利益非常坦诚和明确地摊开在全球人民面前，这是新中国历史上罕见的，外交使节向美国提出这一根本问题：美国是否准备好，与一个具有不同历史文化和制度，但无意与美国争霸的国家和平共处？换言之，中美关系走到今天这一步，中国没有单方面维护中美关系的义务。\",\"cid\":223137356,\"dimension\":{\"width\":1920,\"height\":1080,\"rotate\":0},\"bvid\":\"BV1PA411e7p3\",\"online_count\":21046},{\"aid\":70401294,\"videos\":310,\"tid\":71,\"tname\":\"综艺\",\"copyright\":2,\"pic\":\"http:\\u002F\\u002Fi2.hdslb.com\\u002Fbfs\\u002Farchive\\u002F67f7ada70e798afc1f92b4519cff6fa35f0de7c7.jpg\",\"title\":\"【RunningMan全集】2010-2020RM超清大合集（更新至E515.200809，记得看简介或置顶评论哦，持续更新中～）\",\"pubdate\":1570413334,\"ctime\":1570413334,\"desc\":\"公众号【runningman饭网】韩综韩剧免费分享\\r\\nRM闲聊QQ群号：1045404829\\r\\n想学韩语请看主页置顶动态\\r\\n2013年超清播放链接：cv3464137，14年超清播放链接：cv3464212，2015年超清播放链接：cv3464834，2016年超清播放链接：cv3464837\",\"state\":0,\"attribute\":2117954,\"duration\":1580540,\"rights\":{\"bp\":0,\"elec\":0,\"download\":0,\"movie\":0,\"pay\":0,\"hd5\":1,\"no_reprint\":0,\"autoplay\":1,\"ugc_pay\":0,\"is_cooperation\":0,\"ugc_pay_preview\":0,\"no_background\":0},\"owner\":{\"mid\":320195588,\"name\":\"鲸鱼要好好学习呀\",\"face\":\"http:\\u002F\\u002Fi1.hdslb.com\\u002Fbfs\\u002Fface\\u002Fb881ee6c8ec9b8e5b4fce1dc283f53abcbd95283.jpg\"},\"stat\":{\"aid\":70401294,\"view\":84511450,\"danmaku\":2801841,\"reply\":14147,\"favorite\":407258,\"coin\":100285,\"share\":77478,\"now_rank\":0,\"his_rank\":98,\"like\":281853,\"dislike\":0},\"dynamic\":\"\",\"cid\":121954080,\"dimension\":{\"width\":1280,\"height\":720,\"rotate\":0},\"bvid\":\"BV1SJ411F7y6\",\"online_count\":18278},{\"aid\":711681395,\"videos\":1,\"tid\":138,\"tname\":\"搞笑\",\"copyright\":1,\"pic\":\"http:\\u002F\\u002Fi0.hdslb.com\\u002Fbfs\\u002Farchive\\u002F4d174b7ff13d4dc055844b80c8ea65b739086832.jpg\",\"title\":\"奇葩小伙在北京摆地摊打王者荣耀！赢一把就赚十元钱！\",\"pubdate\":1597137768,\"ctime\":1597137768,\"desc\":\"\",\"state\":0,\"attribute\":16512,\"duration\":1145,\"rights\":{\"bp\":0,\"elec\":0,\"download\":0,\"movie\":0,\"pay\":0,\"hd5\":0,\"no_reprint\":1,\"autoplay\":1,\"ugc_pay\":0,\"is_cooperation\":0,\"ugc_pay_preview\":0,\"no_background\":0},\"owner\":{\"mid\":9824766,\"name\":\"敬汉卿\",\"face\":\"http:\\u002F\\u002Fi1.hdslb.com\\u002Fbfs\\u002Fface\\u002Ffd8d7ad17af295f7c4256959705f009c5f67e9c6.jpg\"},\"stat\":{\"aid\":711681395,\"view\":531380,\"danmaku\":11569,\"reply\":5231,\"favorite\":9338,\"coin\":37540,\"share\":1661,\"now_rank\":0,\"his_rank\":0,\"like\":85285,\"dislike\":0},\"dynamic\":\"#逗比##挑战##奇葩#\",\"cid\":223120877,\"dimension\":{\"width\":1920,\"height\":1080,\"rotate\":0},\"season_id\":388,\"bvid\":\"BV1yD4y1U7j9\",\"online_count\":15233},{\"aid\":711449152,\"videos\":1,\"tid\":153,\"tname\":\"国产动画\",\"copyright\":1,\"pic\":\"http:\\u002F\\u002Fi1.hdslb.com\\u002Fbfs\\u002Farchive\\u002Fa2f479544945636b2d957e4a4145718e7ecb3c35.jpg\",\"title\":\"【独家】《雾山五行》第1集 焕离神火【7月国创】\",\"pubdate\":1595764800,\"ctime\":1595601342,\"desc\":\"神盾开，麒麟散，妖人寻，火行来\",\"state\":0,\"attribute\":76544,\"duration\":1761,\"redirect_url\":\"https:\\u002F\\u002Fwww.bilibili.com\\u002Fbangumi\\u002Fplay\\u002Fep331423\",\"rights\":{\"bp\":0,\"elec\":0,\"download\":0,\"movie\":0,\"pay\":0,\"hd5\":1,\"no_reprint\":0,\"autoplay\":0,\"ugc_pay\":0,\"is_cooperation\":0,\"ugc_pay_preview\":0,\"no_background\":0},\"owner\":{\"mid\":98627270,\"name\":\"哔哩哔哩国创\",\"face\":\"http:\\u002F\\u002Fi1.hdslb.com\\u002Fbfs\\u002Fface\\u002Fd3cd8aef9d3fc8216d224ea24fd2760d607f2f3d.jpg\"},\"stat\":{\"aid\":711449152,\"view\":18953145,\"danmaku\":399541,\"reply\":74329,\"favorite\":1048,\"coin\":2057964,\"share\":4245,\"now_rank\":0,\"his_rank\":0,\"like\":124684,\"dislike\":0},\"dynamic\":\"\",\"cid\":218796492,\"dimension\":{\"width\":2560,\"height\":1440,\"rotate\":0},\"bvid\":\"BV1VD4y1D788\",\"online_count\":13971},{\"aid\":841744883,\"videos\":1,\"tid\":124,\"tname\":\"社科人文\",\"copyright\":1,\"pic\":\"http:\\u002F\\u002Fi0.hdslb.com\\u002Fbfs\\u002Farchive\\u002F3b1a967e424ddbbd8a1ce7b5b1bfc64f44398e6e.jpg\",\"title\":\"【半佛】网抑云现象背后，是人们需要发泄\",\"pubdate\":1597140423,\"ctime\":1597140423,\"desc\":\"一个能让人无病呻吟的年代，才是最好的年代。\",\"state\":0,\"attribute\":16512,\"duration\":706,\"mission_id\":14136,\"rights\":{\"bp\":0,\"elec\":0,\"download\":0,\"movie\":0,\"pay\":0,\"hd5\":0,\"no_reprint\":1,\"autoplay\":1,\"ugc_pay\":0,\"is_cooperation\":0,\"ugc_pay_preview\":0,\"no_background\":0},\"owner\":{\"mid\":37663924,\"name\":\"硬核的半佛仙人\",\"face\":\"http:\\u002F\\u002Fi1.hdslb.com\\u002Fbfs\\u002Fface\\u002Faaf33dced1941af0946f37c62f4b48fcaba9c9a2.jpg\"},\"stat\":{\"aid\":841744883,\"view\":144175,\"danmaku\":2127,\"reply\":2216,\"favorite\":2991,\"coin\":6536,\"share\":740,\"now_rank\":0,\"his_rank\":0,\"like\":22606,\"dislike\":0},\"dynamic\":\"我觉得网抑云现象并不是坏事儿，这年头找个能让自己哭出来的工具，已经挺不容易了。\",\"cid\":223115454,\"dimension\":{\"width\":1920,\"height\":1080,\"rotate\":0},\"bvid\":\"BV1V54y1e76p\",\"online_count\":11746},{\"aid\":710444604,\"videos\":941,\"tid\":32,\"tname\":\"完结动画\",\"copyright\":2,\"pic\":\"http:\\u002F\\u002Fi0.hdslb.com\\u002Fbfs\\u002Farchive\\u002F82d4523e2562748d050a8d8ec7ebc03fbe1a15a1.jpg\",\"title\":\"名侦探柯南 01-941\",\"pubdate\":1588244400,\"ctime\":1587906948,\"desc\":\"主角工藤新一原本是一位颇具名声的高中生侦探，在目击黑暗组织的地下交易后，正准备追踪时却被突袭击昏，并被灌下代号为“APTX4869”的不明药物。后来虽然幸免于死，但身体就此缩小为小学时期的模样。之后他化名为江户川柯南，在邻居阿笠博士的建议下，寄住在女友毛利兰的父亲—侦探毛利小五郎家中，继续秘密从事追查黑暗组织的工作，并私下探寻获得解药的管道，希望能够恢复原来新一的样貌。\",\"state\":0,\"attribute\":76288,\"duration\":1397567,\"redirect_url\":\"https:\\u002F\\u002Fwww.bilibili.com\\u002Fbangumi\\u002Fplay\\u002Fep321808\",\"rights\":{\"bp\":0,\"elec\":0,\"download\":0,\"movie\":0,\"pay\":0,\"hd5\":0,\"no_reprint\":0,\"autoplay\":0,\"ugc_pay\":0,\"is_cooperation\":0,\"ugc_pay_preview\":0,\"no_background\":0},\"owner\":{\"mid\":928123,\"name\":\"哔哩哔哩番剧\",\"face\":\"http:\\u002F\\u002Fi1.hdslb.com\\u002Fbfs\\u002Fface\\u002F7a8412cbacb9fd18f40ddbbf0ad183e45afc1365.jpg\"},\"stat\":{\"aid\":710444604,\"view\":61154385,\"danmaku\":2731822,\"reply\":126877,\"favorite\":749,\"coin\":162955,\"share\":1789,\"now_rank\":0,\"his_rank\":0,\"like\":22224,\"dislike\":0},\"dynamic\":\"\",\"cid\":183362119,\"dimension\":{\"width\":720,\"height\":576,\"rotate\":0},\"bvid\":\"BV1PQ4y1N7V8\",\"online_count\":11317},{\"aid\":499133313,\"videos\":1,\"tid\":124,\"tname\":\"社科人文\",\"copyright\":1,\"pic\":\"http:\\u002F\\u002Fi2.hdslb.com\\u002Fbfs\\u002Farchive\\u002F083a4bb9f73321422131df0fa80f6dc027683cc6.jpg\",\"title\":\"【逸语道破15】中美关系坏不到哪去，前提是不要恐惧斗争\",\"pubdate\":1597053611,\"ctime\":1597042815,\"desc\":\"今天的中美关系，是结构性深度相互嵌套的关系。所谓的中美“脱钩”只是一厢情愿的想象和愿望。中美关系的确在下行，但这种下行更多地是我们对中美关系之间发生摩擦缺少心理准备的一种认知上的冲击。实际上并不存在中美关系“自由落体式下降”，中美关系的走向处于一种精密的控制之中下，因为无论中美，没有人能够承受得起这种“自由落体”的代价。最终决定中美关系的是双方的实力，而敢于斗争的意志是这种实力的重要组成部分。\",\"state\":0,\"attribute\":16793984,\"duration\":3003,\"mission_id\":13954,\"rights\":{\"bp\":0,\"elec\":0,\"download\":0,\"movie\":0,\"pay\":0,\"hd5\":1,\"no_reprint\":1,\"autoplay\":1,\"ugc_pay\":0,\"is_cooperation\":1,\"ugc_pay_preview\":0,\"no_background\":0},\"owner\":{\"mid\":10330740,\"name\":\"观察者网\",\"face\":\"http:\\u002F\\u002Fi1.hdslb.com\\u002Fbfs\\u002Fface\\u002F1d6f100b921c9b48914eda8f3b37e76ba9ef4ca5.jpg\"},\"stat\":{\"aid\":499133313,\"view\":1380254,\"danmaku\":56563,\"reply\":7851,\"favorite\":58706,\"coin\":177610,\"share\":16278,\"now_rank\":0,\"his_rank\":0,\"like\":182921,\"dislike\":0},\"dynamic\":\"#逸语道破##沈逸##美国#\\n今天的中美关系，是结构性深度相互嵌套的关系。所谓的中美“脱钩”只是一厢情愿的想象和愿望。中美关系的确在下行，但这种下行更多地是我们对中美关系之间发生摩擦缺少心理准备的一种认知上的冲击。实际上并不存在中美关系“自由落体式下降”，中美关系的走向处于一种精密的控制之中下，因为无论中美，没有人能够承受得起这种“自由落体”的代价。最终决定中美关系的是双方的实力，而敢于斗争的意志是这种实力的重要组成部分。\",\"cid\":222605385,\"dimension\":{\"width\":1920,\"height\":1080,\"rotate\":0},\"bvid\":\"BV1TK411T7Zd\",\"online_count\":10665},{\"aid\":201694793,\"videos\":1,\"tid\":182,\"tname\":\"影视杂谈\",\"copyright\":1,\"pic\":\"http:\\u002F\\u002Fi1.hdslb.com\\u002Fbfs\\u002Farchive\\u002F19f25c977669634bb66bb74b640e1881b804814f.jpg\",\"title\":\"【片片】老公是变态杀手，老婆是职业刑警，同床共枕真刺激！变态悬疑韩剧《邪恶之花》1-2\",\"pubdate\":1597141852,\"ctime\":1597141852,\"desc\":\"本期视频为大家带来一部新鲜出炉的韩式悬疑剧——《邪恶之花》。\\n关注微信公众号：小片片说大片，更多宠粉福利等你来！\",\"state\":0,\"attribute\":16512,\"duration\":1203,\"rights\":{\"bp\":0,\"elec\":0,\"download\":0,\"movie\":0,\"pay\":0,\"hd5\":0,\"no_reprint\":1,\"autoplay\":1,\"ugc_pay\":0,\"is_cooperation\":0,\"ugc_pay_preview\":0,\"no_background\":0},\"owner\":{\"mid\":10119428,\"name\":\"小片片说大片\",\"face\":\"http:\\u002F\\u002Fi0.hdslb.com\\u002Fbfs\\u002Fface\\u002F8c9c6777325ad761d7b120840bbc36eb7bbcaf92.jpg\"},\"stat\":{\"aid\":201694793,\"view\":90878,\"danmaku\":2548,\"reply\":750,\"favorite\":2416,\"coin\":7495,\"share\":218,\"now_rank\":0,\"his_rank\":0,\"like\":20314,\"dislike\":0},\"dynamic\":\"韩版张东升！变态杀手化身完美人夫，太可怕了！变态悬疑韩剧《邪恶之花》#神奇作品挖掘挑战##悬疑##烧脑#\",\"cid\":223143740,\"dimension\":{\"width\":1920,\"height\":1080,\"rotate\":0},\"bvid\":\"BV1Yh411d7zz\",\"online_count\":10646},{\"aid\":51121699,\"videos\":584,\"tid\":172,\"tname\":\"手机游戏\",\"copyright\":1,\"pic\":\"http:\\u002F\\u002Fi0.hdslb.com\\u002Fbfs\\u002Farchive\\u002F1132c8f2b2612bc253ed075608710cccbca96734.png\",\"title\":\"【本气黑猫】明日方舟攻略合集（更新火蓝之心复刻  OF-EX-6 EX-5 EX-4突袭7-18 LS-5 CE-5 SK-4 剿灭）\",\"pubdate\":1556748394,\"ctime\":1556748394,\"desc\":\"每晚8点直播~\\r\\n喜欢的话可以【关注】【点赞】【投币】【收藏】\\r\\n有问题可以在视频下方评论\\r\\n感谢大家一直以来的支持！\\r\\n关键词：切尔诺伯格 59区废墟 龙门外环 荒芜广场 龙门市区 无人危楼 芯片 剿灭作战 切城\\r\\n萌新指南：av51833723\\r\\n精2优先度：av61652927\\r\\n专精推荐：av68435285\",\"state\":0,\"attribute\":2113536,\"duration\":113982,\"mission_id\":11359,\"rights\":{\"bp\":0,\"elec\":0,\"download\":0,\"movie\":0,\"pay\":0,\"hd5\":0,\"no_reprint\":0,\"autoplay\":1,\"ugc_pay\":0,\"is_cooperation\":0,\"ugc_pay_preview\":0,\"no_background\":0},\"owner\":{\"mid\":38829,\"name\":\"本气黑猫\",\"face\":\"http:\\u002F\\u002Fi1.hdslb.com\\u002Fbfs\\u002Fface\\u002F6c457d5cc5fd42349105c6c9aa74e09328591500.jpg\"},\"stat\":{\"aid\":51121699,\"view\":32608794,\"danmaku\":114482,\"reply\":29686,\"favorite\":316556,\"coin\":351679,\"share\":57317,\"now_rank\":0,\"his_rank\":36,\"like\":298658,\"dislike\":0},\"dynamic\":\"\",\"cid\":113854517,\"dimension\":{\"width\":1536,\"height\":960,\"rotate\":0},\"bvid\":\"BV1p4411x7Ys\",\"online_count\":7608},{\"aid\":839223982,\"videos\":1,\"tid\":76,\"tname\":\"美食圈\",\"copyright\":1,\"pic\":\"http:\\u002F\\u002Fi2.hdslb.com\\u002Fbfs\\u002Farchive\\u002Fd4ed224fe2bd5dfd7ed7284a9d2cad734a7459c5.jpg\",\"title\":\"割点肉包饺子，一碗红油，四斤猪肉，红油饺子吃过瘾，肥羊太馋了\",\"pubdate\":1597141807,\"ctime\":1597073097,\"desc\":\"中午接到老妈的电话，家里吃饭的人多让割点肉回去包饺子，超市割了四斤猪肉，回去\\n\\n剁馅配料，一个多小时饺子出锅，炸一碗红油，饺子蘸红油，越吃越上头，来两头独头\\n\\n蒜，太过瘾了\",\"state\":0,\"attribute\":16768,\"duration\":495,\"rights\":{\"bp\":0,\"elec\":0,\"download\":0,\"movie\":0,\"pay\":0,\"hd5\":1,\"no_reprint\":1,\"autoplay\":1,\"ugc_pay\":0,\"is_cooperation\":0,\"ugc_pay_preview\":0,\"no_background\":0},\"owner\":{\"mid\":390461123,\"name\":\"徐大sao\",\"face\":\"http:\\u002F\\u002Fi0.hdslb.com\\u002Fbfs\\u002Fface\\u002F17323892be2e17b50acadb89b2e385b493f5fb4d.jpg\"},\"stat\":{\"aid\":839223982,\"view\":141468,\"danmaku\":2872,\"reply\":1205,\"favorite\":537,\"coin\":2042,\"share\":113,\"now_rank\":0,\"his_rank\":0,\"like\":14702,\"dislike\":0},\"dynamic\":\"过年，饺子，元素感再猛烈点吧\",\"cid\":222870253,\"dimension\":{\"width\":1920,\"height\":1080,\"rotate\":0},\"bvid\":\"BV1u54y1U7Bo\",\"online_count\":7599},{\"aid\":65587739,\"videos\":23,\"tid\":172,\"tname\":\"手机游戏\",\"copyright\":1,\"pic\":\"http:\\u002F\\u002Fi2.hdslb.com\\u002Fbfs\\u002Farchive\\u002F24acb949ce66897d7b9c643712187445b70b77dc.jpg\",\"title\":\"【小狼XF】《明日方舟》火蓝之心全关卡 最速低配攻略合集OF-1~8 F1~4 更新OF-EX6\",\"pubdate\":1566913972,\"ctime\":1566913973,\"desc\":\"求【点赞】【硬币】【收藏】\\n\\n晚上7点 B站直播↓↓↓↓ \\nhttp:\\u002F\\u002Flive.bilibili.com\\u002F846315\\n更多攻略、同人 欢迎关注微博【摸鱼攻略组】\\n====\\n摸鱼明日方舟攻略组群：239767453（只招收参与攻略制作和同人的）\\n闲聊7号群：903997176（建议）\",\"state\":0,\"attribute\":16512,\"duration\":9232,\"mission_id\":11648,\"rights\":{\"bp\":0,\"elec\":0,\"download\":0,\"movie\":0,\"pay\":0,\"hd5\":0,\"no_reprint\":1,\"autoplay\":1,\"ugc_pay\":0,\"is_cooperation\":0,\"ugc_pay_preview\":0,\"no_background\":0},\"owner\":{\"mid\":298484,\"name\":\"小狼XF\",\"face\":\"http:\\u002F\\u002Fi2.hdslb.com\\u002Fbfs\\u002Fface\\u002F30e2b1ed639000a05539cd6c84faa47c8569f185.jpg\"},\"stat\":{\"aid\":65587739,\"view\":1298362,\"danmaku\":9299,\"reply\":4915,\"favorite\":25123,\"coin\":21315,\"share\":7062,\"now_rank\":0,\"his_rank\":0,\"like\":33341,\"dislike\":0},\"dynamic\":\"#小狼XF##明日方舟##明日方舟·龙门精英招募#\",\"cid\":113810723,\"dimension\":{\"width\":1920,\"height\":1080,\"rotate\":0},\"bvid\":\"BV1e4411B7AK\",\"online_count\":7180},{\"aid\":414192665,\"videos\":1,\"tid\":124,\"tname\":\"社科人文\",\"copyright\":1,\"pic\":\"http:\\u002F\\u002Fi2.hdslb.com\\u002Fbfs\\u002Farchive\\u002F9ffb250fb7c44332027543c7aa86d39be2b67ff2.jpg\",\"title\":\"【罗翔】发生在网络上的猥亵儿童罪\",\"pubdate\":1597136440,\"ctime\":1597124625,\"desc\":\"经常有人搞混猥亵儿童罪与强奸罪，这期视频讲一讲猥亵儿童罪相关的知识。对性侵儿童的行为法律应该保持零容忍。\",\"state\":0,\"attribute\":16768,\"duration\":341,\"mission_id\":13954,\"rights\":{\"bp\":0,\"elec\":0,\"download\":0,\"movie\":0,\"pay\":0,\"hd5\":1,\"no_reprint\":1,\"autoplay\":1,\"ugc_pay\":0,\"is_cooperation\":0,\"ugc_pay_preview\":0,\"no_background\":0},\"owner\":{\"mid\":517327498,\"name\":\"罗翔说刑法\",\"face\":\"http:\\u002F\\u002Fi0.hdslb.com\\u002Fbfs\\u002Fface\\u002F4e5d0a51273fe3f8fabc700b6a71bb8a38c9e21e.jpg\"},\"stat\":{\"aid\":414192665,\"view\":307628,\"danmaku\":5278,\"reply\":2861,\"favorite\":3672,\"coin\":8189,\"share\":1066,\"now_rank\":0,\"his_rank\":0,\"like\":55603,\"dislike\":0},\"dynamic\":\"#罗翔##刑法##猥亵#\",\"cid\":223039035,\"dimension\":{\"width\":1920,\"height\":1080,\"rotate\":0},\"bvid\":\"BV1gV411U7pd\",\"online_count\":7164},{\"aid\":201690722,\"videos\":1,\"tid\":153,\"tname\":\"国产动画\",\"copyright\":1,\"pic\":\"http:\\u002F\\u002Fi1.hdslb.com\\u002Fbfs\\u002Farchive\\u002F005601e5e966489f8c71476c66558d1e86a6f0ad.jpg\",\"title\":\"【独家\\u002F完结】雾山五行 第3集 幻指结界【7月国创】\",\"pubdate\":1596974401,\"ctime\":1596974401,\"desc\":\"八骏来，指甘潭，贪痴兽，五行在\",\"state\":0,\"attribute\":338688,\"duration\":1272,\"redirect_url\":\"https:\\u002F\\u002Fwww.bilibili.com\\u002Fbangumi\\u002Fplay\\u002Fep331425\",\"rights\":{\"bp\":0,\"elec\":0,\"download\":0,\"movie\":0,\"pay\":1,\"hd5\":1,\"no_reprint\":0,\"autoplay\":0,\"ugc_pay\":0,\"is_cooperation\":0,\"ugc_pay_preview\":0,\"no_background\":0},\"owner\":{\"mid\":98627270,\"name\":\"哔哩哔哩国创\",\"face\":\"http:\\u002F\\u002Fi1.hdslb.com\\u002Fbfs\\u002Fface\\u002Fd3cd8aef9d3fc8216d224ea24fd2760d607f2f3d.jpg\"},\"stat\":{\"aid\":201690722,\"view\":4618653,\"danmaku\":134061,\"reply\":29408,\"favorite\":435,\"coin\":929164,\"share\":354,\"now_rank\":0,\"his_rank\":0,\"like\":75675,\"dislike\":0},\"dynamic\":\"\",\"cid\":221716974,\"dimension\":{\"width\":2560,\"height\":1440,\"rotate\":0},\"bvid\":\"BV1ah411d74k\",\"online_count\":6944},{\"aid\":244206759,\"videos\":2,\"tid\":171,\"tname\":\"电子竞技\",\"copyright\":1,\"pic\":\"http:\\u002F\\u002Fi2.hdslb.com\\u002Fbfs\\u002Farchive\\u002Fba5812a6fe3c086590a1857f48b6d9c6672ad3f2.jpg\",\"title\":\"【LPL夏季赛】8月10日 饭堂周末夜\",\"pubdate\":1596997224,\"ctime\":1596997224,\"desc\":\"【LPL夏季赛】8月10日 饭堂周末夜\",\"state\":0,\"attribute\":16512,\"duration\":9954,\"rights\":{\"bp\":0,\"elec\":0,\"download\":0,\"movie\":0,\"pay\":0,\"hd5\":0,\"no_reprint\":1,\"autoplay\":1,\"ugc_pay\":0,\"is_cooperation\":0,\"ugc_pay_preview\":0,\"no_background\":0},\"owner\":{\"mid\":50329118,\"name\":\"哔哩哔哩英雄联盟赛事\",\"face\":\"http:\\u002F\\u002Fi0.hdslb.com\\u002Fbfs\\u002Fface\\u002Fcb620bbb9071974f37843134875d472b47532a97.jpg\"},\"stat\":{\"aid\":244206759,\"view\":1173225,\"danmaku\":35290,\"reply\":6735,\"favorite\":5872,\"coin\":13117,\"share\":2033,\"now_rank\":0,\"his_rank\":0,\"like\":36935,\"dislike\":0},\"dynamic\":\"#电子竞技##英雄联盟##LPL#【LPL夏季赛】8月10日 饭堂周末夜\",\"cid\":222536060,\"dimension\":{\"width\":1920,\"height\":1080,\"rotate\":0},\"bvid\":\"BV19v411v78C\",\"online_count\":5250},{\"aid\":286674851,\"videos\":14,\"tid\":17,\"tname\":\"单机游戏\",\"copyright\":1,\"pic\":\"http:\\u002F\\u002Fi0.hdslb.com\\u002Fbfs\\u002Farchive\\u002F8f4485469dd42799ac52fff222039240d7d29058.jpg\",\"title\":\"【挽纫】救命！我在一张两百米宽的床上醒来...\",\"pubdate\":1597029969,\"ctime\":1597029969,\"desc\":\"感谢各位支持w本系列13集完结啦w\\n这个合集里面还包括一个高甜叶苏cut（在P14），以后如果有番外都会丢进去哒\\n「《苏丽玛的玛丽苏》歌单」: http:\\u002F\\u002Fmusic.163.com\\u002Fplaylist\\u002F5171247833\\u002F509572665\\u002F?userid=509572665 (来自@网易云音乐)\\n剧中的房屋可以去对应的集数的简介里面找\\n求三连求关注\\n求三连求关注\\n求三连求关注\\n求三连求关注\\n求三连求关注\",\"state\":0,\"attribute\":16768,\"duration\":2770,\"mission_id\":14041,\"rights\":{\"bp\":0,\"elec\":0,\"download\":0,\"movie\":0,\"pay\":0,\"hd5\":1,\"no_reprint\":1,\"autoplay\":1,\"ugc_pay\":0,\"is_cooperation\":0,\"ugc_pay_preview\":0,\"no_background\":0},\"owner\":{\"mid\":10195907,\"name\":\"挽纫很会咕咕咕\",\"face\":\"http:\\u002F\\u002Fi0.hdslb.com\\u002Fbfs\\u002Fface\\u002F9eb0386d93c1d80cfb7ee63785d26a9ff8bd70ef.jpg\"},\"stat\":{\"aid\":286674851,\"view\":1527438,\"danmaku\":40153,\"reply\":4722,\"favorite\":76038,\"coin\":101382,\"share\":32827,\"now_rank\":0,\"his_rank\":0,\"like\":127489,\"dislike\":0},\"dynamic\":\"#bilibili新星计划##我的游戏假期##模拟人生4#\",\"cid\":222488537,\"dimension\":{\"width\":1920,\"height\":1080,\"rotate\":0},\"bvid\":\"BV1Lf4y197gM\",\"online_count\":4537},{\"aid\":73933928,\"videos\":167,\"tid\":32,\"tname\":\"完结动画\",\"copyright\":2,\"pic\":\"http:\\u002F\\u002Fi1.hdslb.com\\u002Fbfs\\u002Farchive\\u002F946cd945f0300f5049a07611b8737a717e93c6ef.jpg\",\"title\":\"犬夜叉\",\"pubdate\":1572602399,\"ctime\":1572429185,\"desc\":\"《犬夜叉》是根据日本漫画家高桥留美子所著同名作品改编的电视动画，故事讲述半妖少年——犬夜叉和穿越时空的少女——日暮戈薇，以及法师弥勒、驱魔师珊瑚、叉尾妖猫云母、小狐妖七宝一同对抗死敌奈落，并四处寻找四魂之玉碎片的冒险经历。\",\"state\":0,\"attribute\":77568,\"duration\":244038,\"redirect_url\":\"https:\\u002F\\u002Fwww.bilibili.com\\u002Fbangumi\\u002Fplay\\u002Fep289986\",\"rights\":{\"bp\":1,\"elec\":0,\"download\":0,\"movie\":0,\"pay\":0,\"hd5\":1,\"no_reprint\":0,\"autoplay\":0,\"ugc_pay\":0,\"is_cooperation\":0,\"ugc_pay_preview\":0,\"no_background\":0},\"owner\":{\"mid\":928123,\"name\":\"哔哩哔哩番剧\",\"face\":\"http:\\u002F\\u002Fi1.hdslb.com\\u002Fbfs\\u002Fface\\u002F7a8412cbacb9fd18f40ddbbf0ad183e45afc1365.jpg\"},\"stat\":{\"aid\":73933928,\"view\":42546776,\"danmaku\":2254026,\"reply\":79048,\"favorite\":1100,\"coin\":112413,\"share\":2801,\"now_rank\":0,\"his_rank\":0,\"like\":6573,\"dislike\":0},\"dynamic\":\"\",\"cid\":126445964,\"dimension\":{\"width\":1440,\"height\":1080,\"rotate\":0},\"bvid\":\"BV1vE411b7ke\",\"online_count\":3174},{\"aid\":286648737,\"videos\":1,\"tid\":27,\"tname\":\"综合\",\"copyright\":1,\"pic\":\"http:\\u002F\\u002Fi0.hdslb.com\\u002Fbfs\\u002Farchive\\u002Fa301d7d49ad883f017fff5906fb98d1e60964062.jpg\",\"title\":\"成年后这些就该懂了\",\"pubdate\":1596809357,\"ctime\":1596809357,\"desc\":\"第100期纪念合集\",\"state\":0,\"attribute\":16768,\"duration\":806,\"mission_id\":14136,\"rights\":{\"bp\":0,\"elec\":0,\"download\":0,\"movie\":0,\"pay\":0,\"hd5\":1,\"no_reprint\":1,\"autoplay\":1,\"ugc_pay\":0,\"is_cooperation\":0,\"ugc_pay_preview\":0,\"no_background\":0},\"owner\":{\"mid\":321422126,\"name\":\"进击的金厂长\",\"face\":\"http:\\u002F\\u002Fi1.hdslb.com\\u002Fbfs\\u002Fface\\u002Fa34eddc74f7bffb96f77b37b4f27b793d892863b.jpg\"},\"stat\":{\"aid\":286648737,\"view\":5750536,\"danmaku\":51892,\"reply\":10305,\"favorite\":237228,\"coin\":619779,\"share\":38438,\"now_rank\":0,\"his_rank\":1,\"like\":707481,\"dislike\":0},\"dynamic\":\"#沙雕动画##短片##治愈向#我的第100期视频，先素质三连再观看吧\",\"cid\":221679332,\"dimension\":{\"width\":1920,\"height\":1080,\"rotate\":0},\"bvid\":\"BV1Mf4y197cj\",\"online_count\":2309},{\"aid\":754172692,\"videos\":1,\"tid\":31,\"tname\":\"翻唱\",\"copyright\":1,\"pic\":\"http:\\u002F\\u002Fi1.hdslb.com\\u002Fbfs\\u002Farchive\\u002Fbfb5c9f95bdd885cbe81d568229f3cd345f7ccd0.jpg\",\"title\":\"金钱的声音！10000枚硬币演奏10000HOURS（补投）\",\"pubdate\":1597134489,\"ctime\":1597134489,\"desc\":\"10000枚硬币的美妙声音！\\n噢~所以我该怎么处理这10000枚一美分的硬币\\n演唱：Conor Matthews\",\"state\":0,\"attribute\":33571200,\"duration\":557,\"mission_id\":13997,\"rights\":{\"bp\":0,\"elec\":0,\"download\":0,\"movie\":0,\"pay\":0,\"hd5\":1,\"no_reprint\":1,\"autoplay\":1,\"ugc_pay\":0,\"is_cooperation\":0,\"ugc_pay_preview\":0,\"no_background\":0},\"owner\":{\"mid\":596324576,\"name\":\"音乐制作人Kurt\",\"face\":\"http:\\u002F\\u002Fi0.hdslb.com\\u002Fbfs\\u002Fface\\u002F628b1bfeaae9387bdb337cfc5ca334004bee71c1.jpg\"},\"stat\":{\"aid\":754172692,\"view\":90771,\"danmaku\":997,\"reply\":759,\"favorite\":3476,\"coin\":13405,\"share\":449,\"now_rank\":0,\"his_rank\":0,\"like\":25049,\"dislike\":0},\"dynamic\":\"#全能打卡挑战##bilibili夏日音乐季##KHS#\\n10000枚硬币的美妙声音！\\n噢~所以我该怎么处理这10000枚一美分的硬币\\n演唱：Conor Matthews\",\"cid\":223076756,\"dimension\":{\"width\":1920,\"height\":1080,\"rotate\":0},\"bvid\":\"BV1Fk4y1U7eV\",\"online_count\":2241},{\"aid\":4050443,\"videos\":97,\"tid\":208,\"tname\":\"校园学习\",\"copyright\":2,\"pic\":\"http:\\u002F\\u002Fi1.hdslb.com\\u002Fbfs\\u002Farchive\\u002F9a8f816fdadd1b814c5ce51e7ead25319166eb92.jpg\",\"title\":\"[小甲鱼]零基础入门学习Python\",\"pubdate\":1457459737,\"ctime\":1497435266,\"desc\":\"#搬运自FishC论坛,该系列已完结,共有00~96节\\r\\n#FishC论坛：http:\\u002F\\u002Fbbs.fishc.com\\u002Fforum.php\\r\\n#小甲鱼课程规划帖：http:\\u002F\\u002Fbbs.fishc.com\\u002Fthread-1053-1-1.html\\r\\n\\r\\n此教程适合完全零基础的朋友学习，\\r\\n这视频中的相关作业和解答在原论坛中都有，强烈建议一定要稳扎稳打的写作业。\\r\\n\",\"state\":0,\"attribute\":49152,\"duration\":108973,\"rights\":{\"bp\":0,\"elec\":0,\"download\":0,\"movie\":0,\"pay\":0,\"hd5\":0,\"no_reprint\":0,\"autoplay\":1,\"ugc_pay\":0,\"is_cooperation\":0,\"ugc_pay_preview\":0,\"no_background\":0},\"owner\":{\"mid\":25560915,\"name\":\"IT搬運工\",\"face\":\"http:\\u002F\\u002Fi0.hdslb.com\\u002Fbfs\\u002Fface\\u002Fmember\\u002Fnoface.jpg\"},\"stat\":{\"aid\":4050443,\"view\":10823587,\"danmaku\":236193,\"reply\":10163,\"favorite\":594364,\"coin\":70482,\"share\":58472,\"now_rank\":0,\"his_rank\":0,\"like\":140329,\"dislike\":0},\"dynamic\":\"\",\"cid\":6534573,\"dimension\":{\"width\":0,\"height\":0,\"rotate\":0},\"bvid\":\"BV1xs411Q799\",\"online_count\":1826},{\"aid\":839238745,\"videos\":1,\"tid\":75,\"tname\":\"动物圈\",\"copyright\":1,\"pic\":\"http:\\u002F\\u002Fi0.hdslb.com\\u002Fbfs\\u002Farchive\\u002Fcb7b976eac9a8a722e0f372973a10d3957fd2e5d.jpg\",\"title\":\"狮子抢肉的速度有多快？【奥列格园长】\",\"pubdate\":1597133052,\"ctime\":1597133053,\"desc\":\"狮子抢肉的速度有多快？【奥列格园长】\",\"state\":0,\"attribute\":16768,\"duration\":145,\"rights\":{\"bp\":0,\"elec\":0,\"download\":0,\"movie\":0,\"pay\":0,\"hd5\":1,\"no_reprint\":1,\"autoplay\":1,\"ugc_pay\":0,\"is_cooperation\":0,\"ugc_pay_preview\":0,\"no_background\":0},\"owner\":{\"mid\":590490400,\"name\":\"克里米亚野生动物园\",\"face\":\"http:\\u002F\\u002Fi2.hdslb.com\\u002Fbfs\\u002Fface\\u002F8ed24d53939fad1b707416c5c3d2b084d92aa638.jpg\"},\"stat\":{\"aid\":839238745,\"view\":106510,\"danmaku\":791,\"reply\":1054,\"favorite\":1339,\"coin\":8372,\"share\":199,\"now_rank\":0,\"his_rank\":0,\"like\":16596,\"dislike\":0},\"dynamic\":\"#俄罗斯##克里米亚野生动物园##萌宠#\",\"cid\":223100151,\"dimension\":{\"width\":1080,\"height\":1920,\"rotate\":0},\"bvid\":\"BV1P54y1U7dh\",\"online_count\":1655}]};(function(){var s;(s=document.currentScript||document.scripts[document.scripts.length-1]).parentNode.removeChild(s);}());</script><script src=\"//s1.hdslb.com/bfs/static/jinkela/online/1.online.cbf0846ee5576f0b501b75ca6422e17f66791eaa.js\" defer></script><script src=\"//s1.hdslb.com/bfs/static/jinkela/online/online.cbf0846ee5576f0b501b75ca6422e17f66791eaa.js\" defer></script><!-- built files will be auto injected --><script type=\"text/javascript\">0</script><div class=\"footer bili-footer report-wrap-module\"></div><script type=\"text/javascript\" charset=\"utf-8\" src=\"//static.hdslb.com/common/js/footer.js\"></script></body></html>\n"
     ]
    }
   ],
   "source": [
    "result = b_crawler.download(\n",
    "    'https://www.bilibili.com/video/online.html?spm_id_from=333.851.b_7265706f7274466972737432.15',\n",
    ")\n",
    "print(result)"
   ]
  },
  {
   "cell_type": "markdown",
   "metadata": {},
   "source": [
    "## B站当前在线抓取"
   ]
  },
  {
   "cell_type": "code",
   "execution_count": 23,
   "metadata": {
    "collapsed": false
   },
   "outputs": [],
   "source": [
    "!del bilibili_online_now.txt"
   ]
  },
  {
   "cell_type": "code",
   "execution_count": 24,
   "metadata": {
    "collapsed": false
   },
   "outputs": [],
   "source": [
    "result_extract = b_crawler.crawl(\n",
    "    'https://www.bilibili.com/video/online.html?spm_id_from=333.851.b_7265706f7274466972737432.15',\n",
    "    '<a\\shref=\"\\/\\/(.*?)\"\\stitle=\"(.*?)\"[\\S\\s]*?b-icon-v-play\"><\\/i>(.*?)\\s[\\S\\s]*?b-icon-v-dm\"><\\/i>(.*?)\\s[\\S\\s]*?<a\\shref=\"\\/\\/(.*?)\"[\\S\\s]*?class=\"author\">(.*?)<\\/a>[\\S\\s]*?<b>(.*?)<\\/b>'\n",
    ")"
   ]
  },
  {
   "cell_type": "code",
   "execution_count": 25,
   "metadata": {
    "collapsed": false
   },
   "outputs": [
    {
     "name": "stdout",
     "output_type": "stream",
     "text": [
      "www.bilibili.com/video/BV1PA411e7p3 沈逸：中美进入“关键时刻”，注意驻美大使表态中的这些重大信号 32.9万 1.2万 space.bilibili.com/10330740/ 观察者网 25947\n",
      "www.bilibili.com/video/BV1SJ411F7y6 【RunningMan全集】2010-2020RM超清大合集（更新至E515.200809，记得看简介或置顶评论哦，持续更新中～） 8453.8万 280.3万 space.bilibili.com/320195588/ 鲸鱼要好好学习呀 19306\n",
      "www.bilibili.com/video/BV1VD4y1D788 【独家】《雾山五行》第1集 焕离神火【7月国创】 1913.9万 40.3万 space.bilibili.com/98627270/ 哔哩哔哩国创 14167\n",
      "www.bilibili.com/video/BV1V54y1e76p 【半佛】网抑云现象背后，是人们需要发泄 31.9万 3689 space.bilibili.com/37663924/ 硬核的半佛仙人 13175\n",
      "www.bilibili.com/video/BV1yD4y1U7j9 奇葩小伙在北京摆地摊打王者荣耀！赢一把就赚十元钱！ 95.2万 1.1万 space.bilibili.com/9824766/ 敬汉卿 12050\n",
      "www.bilibili.com/video/BV1PQ4y1N7V8 名侦探柯南 01-941 6128.7万 273.4万 space.bilibili.com/928123/ 哔哩哔哩番剧 11972\n",
      "www.bilibili.com/video/BV14h411d7WM 【睡前消息153】抛弃孙中山百年“遗产”，台湾两党废弃“三民五权” 13.9万 2468 space.bilibili.com/54992199/ 观视频工作室 11691\n",
      "www.bilibili.com/video/BV1Yk4y1m7Rf 【独家】《雾山五行》第2集 嗔兽孔雀【7月国创】 1009.8万 24.0万 space.bilibili.com/98627270/ 哔哩哔哩国创 10225\n",
      "www.bilibili.com/video/BV1TK411T7Zd 【逸语道破15】中美关系坏不到哪去，前提是不要恐惧斗争 141.2万 5.8万 space.bilibili.com/10330740/ 观察者网 9567\n",
      "www.bilibili.com/video/BV1Yh411d7zz 【片片】老公是变态杀手，老婆是职业刑警，同床共枕真刺激！变态悬疑韩剧《邪恶之花》1-2 23.3万 4995 space.bilibili.com/10119428/ 小片片说大片 8623\n",
      "www.bilibili.com/video/BV1p4411x7Ys 【本气黑猫】明日方舟攻略合集（更新火蓝之心复刻  OF-EX-6 EX-5 EX-4突袭7-18 LS-5 CE-5 SK-4 剿灭） 3264.8万 11.5万 space.bilibili.com/38829/ 本气黑猫 7314\n",
      "www.bilibili.com/video/BV1154y1i76b 历时七天做出来一块西瓜吐司，最后老父亲哭了 32.2万 7146 space.bilibili.com/353539995/ 拜托了小翔哥 7192\n",
      "www.bilibili.com/video/BV16K4y1v7Gc 【屎O说】你们泰国人，是不是在广告里加了阴谋？ 3.1万 244 space.bilibili.com/7349/ STN工作室 6182\n",
      "www.bilibili.com/video/BV1HJ411n7Eo 【SBS综艺】Running Man 2020合集开始（更新E515.200809 主题：两人组越狱竞赛）【1080P】【RM】【TSKS】 1250.0万 33.7万 space.bilibili.com/27580511/ 一只南音呀 4638\n",
      "www.bilibili.com/video/BV1ba4y1J7Db 【超级小桀】欢迎来到二十一世纪！高科技来了！ 5.7万 811 space.bilibili.com/29440965/ 超级小桀的日常 4490\n",
      "www.bilibili.com/video/BV1mC4y147BP 是舔狗熟悉的剧情【阅片无数动漫篇05】 381.1万 5.2万 space.bilibili.com/14110780/ 凉风Kaze 3796\n",
      "www.bilibili.com/video/BV1Lf4y197gM 【挽纫】救命！我在一张两百米宽的床上醒来... 163.4万 4.3万 space.bilibili.com/10195907/ 挽纫很会咕咕咕 3458\n",
      "www.bilibili.com/video/BV1Bk4y117Ur 一只就能卖到2000元的小螃蟹，竟然还是养殖的，那是什么样味道？ 5.3万 1166 space.bilibili.com/91399769/ 衣谷水原egg 3274\n",
      "www.bilibili.com/video/BV1p5411879s 《苍蝇》 赤羽 原创 125.2万 7795 space.bilibili.com/3379951/ ilem 2293\n",
      "www.bilibili.com/video/BV1is411Q7Nz 【合集】冰菓 Hyouka【独家正版】 6972.3万 302.7万 space.bilibili.com/928123/ 哔哩哔哩番剧 1385\n",
      "\n"
     ]
    }
   ],
   "source": [
    "with open('bilibili_online_now.txt','r',encoding='utf-8') as f:\n",
    "    lines = f.read()\n",
    "    for line in lines.split('\\n'):\n",
    "        print(line)"
   ]
  },
  {
   "cell_type": "markdown",
   "metadata": {},
   "source": [
    "## B站推荐页抓取（不全）"
   ]
  },
  {
   "cell_type": "code",
   "execution_count": 35,
   "metadata": {
    "collapsed": true
   },
   "outputs": [],
   "source": [
    "!del bilibili_online_now.txt"
   ]
  },
  {
   "cell_type": "code",
   "execution_count": 36,
   "metadata": {
    "collapsed": true
   },
   "outputs": [],
   "source": [
    "result_extract = b_crawler.crawl(\n",
    "    'https://www.bilibili.com/',\n",
    "    'title=\"(.*?)\" class=\"title\"[\\s\\S]*?UPzhu\"><\\/i>(.*?)<\\/p><p\\sclass=\"play\">(.*?)播放<\\/p>[\\s\\S]*?href=\"\\/\\/(.*?)\"'\n",
    ")"
   ]
  },
  {
   "cell_type": "code",
   "execution_count": 37,
   "metadata": {
    "collapsed": false
   },
   "outputs": [
    {
     "name": "stdout",
     "output_type": "stream",
     "text": [
      "沈逸：中美进入“关键时刻”，注意驻美大使表态中的这些重大信号 观察者网 38.5万 www.bilibili.com/video/BV1Fk4y1U7eV\n",
      "金钱的声音！10000枚硬币演奏10000HOURS（补投） 音乐制作人Kurt 14.6万 www.bilibili.com/video/BV1C5411872B\n",
      "【手书】帰り道【宝钟玛琳ver】 澈の月 6.9万 www.bilibili.com/video/BV1654118766\n",
      "【联动翻唱】Kawaii make MY day！【神楽七奈×时雨羽衣】 神楽七奈Official 4.0万 www.bilibili.com/video/BV1154y1i76b\n",
      "历时七天做出来一块西瓜吐司，最后老父亲哭了 拜托了小翔哥 39.2万 www.bilibili.com/video/BV1V54y1e76p\n",
      "【半佛】网抑云现象背后，是人们需要发泄 硬核的半佛仙人 38.4万 www.bilibili.com/video/BV1Pv411i7LR\n",
      "【10月】战术人形的虚度日常OP 少女前线描改 白兔子菌 3.5万 www.bilibili.com/video/BV1j64y1c7Kf\n",
      "如何做出一份酥脆多汁的韩式炸鸡？！裹粉配方、酱料熬制 赖皮猴爱美食 8.9万 www.bilibili.com/video/BV1Lf4y197gM\n",
      "【挽纫】救命！我在一张两百米宽的床上醒来... 挽纫很会咕咕咕 165.9万 www.bilibili.com/video/BV1rA411Y7fE\n",
      "【鬼谷说】奇蹄目：看铁蹄铮铮，踏遍万里河山 芳斯塔芙 53.8万 www.bilibili.com/video/BV1qa4y1J7PH\n",
      "\n"
     ]
    }
   ],
   "source": [
    "with open('bilibili_online_now.txt','r',encoding='utf-8') as f:\n",
    "    lines = f.read()\n",
    "    for line in lines.split('\\n'):\n",
    "        print(line)"
   ]
  },
  {
   "cell_type": "code",
   "execution_count": null,
   "metadata": {
    "collapsed": true
   },
   "outputs": [],
   "source": []
  }
 ],
 "metadata": {
  "anaconda-cloud": {},
  "kernelspec": {
   "display_name": "Python [conda root]",
   "language": "python",
   "name": "conda-root-py"
  },
  "language_info": {
   "codemirror_mode": {
    "name": "ipython",
    "version": 3
   },
   "file_extension": ".py",
   "mimetype": "text/x-python",
   "name": "python",
   "nbconvert_exporter": "python",
   "pygments_lexer": "ipython3",
   "version": "3.5.2"
  }
 },
 "nbformat": 4,
 "nbformat_minor": 1
}
